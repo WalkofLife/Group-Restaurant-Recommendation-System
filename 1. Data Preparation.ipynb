{
 "cells": [
  {
   "cell_type": "markdown",
   "metadata": {},
   "source": [
    "### Import Libraries"
   ]
  },
  {
   "cell_type": "code",
   "execution_count": null,
   "metadata": {},
   "outputs": [],
   "source": [
    "import os\n",
    "import json\n",
    "from tqdm import tqdm\n",
    "\n",
    "import numpy as np\n",
    "import pandas as pd\n",
    "import matplotlib.pyplot as plt\n",
    "import seaborn as sns\n",
    "\n",
    "from langdetect import detect\n",
    "import regex as re\n",
    "\n",
    "import spacy\n",
    "myspacy = spacy.load('en_core_web_sm')\n",
    "\n",
    "import warnings\n",
    "warnings.filterwarnings('ignore')"
   ]
  },
  {
   "cell_type": "markdown",
   "metadata": {},
   "source": [
    "### Import Dataset"
   ]
  },
  {
   "cell_type": "markdown",
   "metadata": {},
   "source": [
    "#### Converting JSON to DataFrame"
   ]
  },
  {
   "cell_type": "code",
   "execution_count": null,
   "metadata": {},
   "outputs": [],
   "source": [
    "reviews = {'review_id' : [], 'business_id' : [], 'user_id' : [], \n",
    "           'stars': [], 'text': [], 'date' : [], \n",
    "           'useful' : [], 'funny': [], 'cool': []}\n",
    "\n",
    "business = {'business_id' : [], 'name' : [], 'address' : [], \n",
    "           'city': [], 'state': [], 'postal_code' : [], \n",
    "           'stars' : [], 'review_count': [], 'is_open': [], 'categories': []}\n",
    "\n",
    "users = {'user_id': [],'name': [],'review_count': [],\n",
    "        'yelping_since': [],'useful': [],'funny': [],\n",
    "        'cool': [],'elite': [],'fans': [],'friends': []}\n",
    "\n",
    "def convert2df(filename,df_structure):\n",
    "    with open(filename) as f:\n",
    "        for line in tqdm(f):\n",
    "            row = json.loads(line)\n",
    "                for i in df_structure.keys():\n",
    "                    df_structure[i].append(row[i])\n",
    "    return df_structure"
   ]
  },
  {
   "cell_type": "code",
   "execution_count": null,
   "metadata": {},
   "outputs": [],
   "source": [
    "business_dict = convert2df(\"yelp_academic_dataset_business.json\",business)\n",
    "business_df = pd.DataFrame.from_dict(business_dict)\n",
    "business_df.head()"
   ]
  },
  {
   "cell_type": "code",
   "execution_count": null,
   "metadata": {},
   "outputs": [],
   "source": [
    "reviews_dict = convert2df(\"yelp_academic_dataset_reviews.json\",reviews)\n",
    "reviews_df = pd.DataFrame.from_dict(reviews_dict)\n",
    "reviews_df.head()"
   ]
  },
  {
   "cell_type": "code",
   "execution_count": null,
   "metadata": {},
   "outputs": [],
   "source": [
    "users_dict = convert2df(\"yelp_academic_dataset_users.json\",users)\n",
    "users_df = pd.DataFrame.from_dict(users_dict)\n",
    "users_df.head()"
   ]
  },
  {
   "cell_type": "markdown",
   "metadata": {},
   "source": [
    "### Data Filtering"
   ]
  },
  {
   "cell_type": "markdown",
   "metadata": {},
   "source": [
    "#### Filter 1 ( you can save the file into .csv after every step to avoid repeating steps due to system hangs due to OutOfMemoryError )\n",
    "- Filtering only Restaurant Businesses , which are open and have more than 50 reviews.\n",
    "- Retain the reviews of the filtered restaurants\n",
    "- Retain the users who have given more than 50 reviews"
   ]
  },
  {
   "cell_type": "code",
   "execution_count": null,
   "metadata": {},
   "outputs": [],
   "source": [
    "business_df = business_df[(business_df['categories'].str.contains('Restaurants')==True) & \n",
    "                            (business_df[\"is_open\"]== 1) & (business_df[\"review_count\"] >= 50)"
   ]
  },
  {
   "cell_type": "code",
   "execution_count": null,
   "metadata": {},
   "outputs": [],
   "source": [
    "restaurant_ids = business_df[\"business_id\"].unique()\n",
    "reviews_df =  reviews_df[reviews_df.business_id.isin(restaurant_ids)]"
   ]
  },
  {
   "cell_type": "code",
   "execution_count": null,
   "metadata": {},
   "outputs": [],
   "source": [
    "users_df = users_df[users_df.review_count>50]\n",
    "users_df.shape"
   ]
  },
  {
   "cell_type": "markdown",
   "metadata": {},
   "source": [
    "#### Filter 2 ( you can save the file into .csv after every step to avoid repeating steps due to system hangs due to OutOfMemoryError )\n",
    "- Group by Restaurants based on City and State , and aggregate the review count to find the City-State having 100000 reviews\n",
    "- Retain the reviews of filtered restaurants\n",
    "- Retain the users whose reviews are retained in reviews_df"
   ]
  },
  {
   "cell_type": "code",
   "execution_count": null,
   "metadata": {},
   "outputs": [],
   "source": [
    "business_df.groupby(['state','city']).agg({\"review_count\":\"sum\"}).sort_values(by='review_count',ascending=False)"
   ]
  },
  {
   "cell_type": "code",
   "execution_count": null,
   "metadata": {},
   "outputs": [],
   "source": [
    "business_df = business_df[((business_df['state'] == 'MA') & (business_df['city'] == 'Cambridge'))]"
   ]
  },
  {
   "cell_type": "code",
   "execution_count": null,
   "metadata": {},
   "outputs": [],
   "source": [
    "restaurant_ids = business_df[\"business_id\"].unique()\n",
    "reviews_df =  reviews_df[reviews_df.business_id.isin(restaurant_ids)]"
   ]
  },
  {
   "cell_type": "code",
   "execution_count": null,
   "metadata": {},
   "outputs": [],
   "source": [
    "unique_users = pd.DataFrame(cambridge_reviews[\"user_id\"].unique(),columns=['user_id'])"
   ]
  },
  {
   "cell_type": "code",
   "execution_count": null,
   "metadata": {},
   "outputs": [],
   "source": [
    "filterd_user_ids = unique_users['user_id'].tolist()\n",
    "users_df =  users_df[users_df.user_id.isin(filterd_user_ids)]"
   ]
  },
  {
   "cell_type": "markdown",
   "metadata": {},
   "source": [
    "#### Saving the dataframes into .csv to avoid repeating the steps again"
   ]
  },
  {
   "cell_type": "code",
   "execution_count": null,
   "metadata": {},
   "outputs": [],
   "source": [
    "business_df.to_csv('filtered_business.csv',index= False)\n",
    "reviews_df.to_csv('filtered_reviews.csv',index= False)\n",
    "users_df.to_csv('filtered_users.csv',index= False)"
   ]
  },
  {
   "cell_type": "code",
   "execution_count": null,
   "metadata": {},
   "outputs": [],
   "source": [
    "business_df = pd.read_csv('filtered_business.csv')\n",
    "business_df = pd.read_csv('filtered_reviews.csv')\n",
    "business_df = pd.read_csv('filtered_users.csv')"
   ]
  },
  {
   "cell_type": "markdown",
   "metadata": {},
   "source": [
    "### Data Cleaning"
   ]
  },
  {
   "cell_type": "markdown",
   "metadata": {},
   "source": [
    "#### To remove Non-English Reviews from the dataset ( and update reviews_df and users_df )"
   ]
  },
  {
   "cell_type": "code",
   "execution_count": null,
   "metadata": {},
   "outputs": [],
   "source": [
    "non_eng_review_ids = []\n",
    "reviews_df_1 = reviews_df\n",
    "reviews_df_1['lang'] = reviews_df_1['text'].apply(detect)\n",
    "reviews_df_1 = reviews_df_1[reviews_df_1.lang!='en']"
   ]
  },
  {
   "cell_type": "code",
   "execution_count": null,
   "metadata": {},
   "outputs": [],
   "source": [
    "non_eng_review_ids.append(reviews_df_1.review_id)\n",
    "non_enlish_review_id_alone = []\n",
    "                          \n",
    "for i in non_eng_review_ids:\n",
    "    for j in i:\n",
    "        non_enlish_review_id_alone.append(j)\n",
    "total_non_english_review = len(non_enlish_review_id_alone)\n",
    "print(\"total non english reviews :\",total_non_english_review)\n",
    "df = pd.DataFrame(non_enlish_review_id_alone)\n",
    "df.to_csv('non_eng_review.csv')"
   ]
  },
  {
   "cell_type": "code",
   "execution_count": null,
   "metadata": {},
   "outputs": [],
   "source": [
    "df = pd.read_csv('non_eng_review.csv')\n",
    "non_enlish_review_id_alone = pd.DataFrame(df).to_numpy()"
   ]
  },
  {
   "cell_type": "code",
   "execution_count": null,
   "metadata": {},
   "outputs": [],
   "source": [
    "index_reviews_to_be_dropped = []\n",
    "for i in range(len(non_enlish_review_id_alone)):\n",
    "    reviews_to_be_dropped = reviews_df[reviews_df['review_id']==non_enlish_review_id_alone[i][1]]['text']\n",
    "    index_reviews_to_be_dropped.append(reviews_to_be_dropped.first_valid_index())\n",
    "reviews_df = reviews_df.drop(index_reviews_to_be_dropped)"
   ]
  },
  {
   "cell_type": "code",
   "execution_count": null,
   "metadata": {},
   "outputs": [],
   "source": [
    "unique_users = pd.DataFrame(reviews_df[\"user_id\"].unique(),columns=['user_id'])\n",
    "filterd_user_ids = unique_users['user_id'].tolist()\n",
    "users_df =  users_df[users_df.user_id.isin(filterd_user_ids)]"
   ]
  },
  {
   "cell_type": "markdown",
   "metadata": {},
   "source": [
    "### Exploratory Data Analysis"
   ]
  },
  {
   "cell_type": "code",
   "execution_count": null,
   "metadata": {},
   "outputs": [],
   "source": []
  }
 ],
 "metadata": {
  "hide_input": false,
  "kernelspec": {
   "display_name": "Python 3",
   "language": "python",
   "name": "python3"
  },
  "language_info": {
   "codemirror_mode": {
    "name": "ipython",
    "version": 3
   },
   "file_extension": ".py",
   "mimetype": "text/x-python",
   "name": "python",
   "nbconvert_exporter": "python",
   "pygments_lexer": "ipython3",
   "version": "3.7.4"
  },
  "toc": {
   "base_numbering": 1,
   "nav_menu": {},
   "number_sections": true,
   "sideBar": true,
   "skip_h1_title": false,
   "title_cell": "Table of Contents",
   "title_sidebar": "Contents",
   "toc_cell": false,
   "toc_position": {},
   "toc_section_display": true,
   "toc_window_display": false
  },
  "varInspector": {
   "cols": {
    "lenName": 16,
    "lenType": 16,
    "lenVar": 40
   },
   "kernels_config": {
    "python": {
     "delete_cmd_postfix": "",
     "delete_cmd_prefix": "del ",
     "library": "var_list.py",
     "varRefreshCmd": "print(var_dic_list())"
    },
    "r": {
     "delete_cmd_postfix": ") ",
     "delete_cmd_prefix": "rm(",
     "library": "var_list.r",
     "varRefreshCmd": "cat(var_dic_list()) "
    }
   },
   "oldHeight": 122.22200000000001,
   "position": {
    "height": "40px",
    "left": "1436.67px",
    "right": "20px",
    "top": "120px",
    "width": "250px"
   },
   "types_to_exclude": [
    "module",
    "function",
    "builtin_function_or_method",
    "instance",
    "_Feature"
   ],
   "varInspector_section_display": "none",
   "window_display": true
  }
 },
 "nbformat": 4,
 "nbformat_minor": 2
}
